{
 "cells": [
  {
   "cell_type": "markdown",
   "execution_count": null,
   "metadata": {},
   "source": [
    "# Dump images"
   ]
  },
  {
   "cell_type": "code",
   "execution_count": 1,
   "metadata": {
    "_cell_guid": "b1076dfc-b9ad-4769-8c92-a6c4dae69d19",
    "_uuid": "8f2839f25d086af736a60e9eeb907d3b93b6e0e5"
   },
   "outputs": [
    {
     "name": "stdout",
     "output_type": "stream",
     "text": [
      "Tensorflow version 2.2.0\n"
     ]
    }
   ],
   "source": [
    "import os, sys, math, argparse\n",
    "\n",
    "import numpy as np\n",
    "import pandas as pd\n",
    "from sklearn.model_selection import KFold, StratifiedKFold\n",
    "\n",
    "import tensorflow as tf\n",
    "\n",
    "from concurrent.futures import ThreadPoolExecutor\n",
    "\n",
    "print(\"Tensorflow version \" + tf.__version__)\n",
    "AUTO = tf.data.experimental.AUTOTUNE # used in tf.data.Dataset API\n",
    "\n",
    "SEED = 1029\n",
    "DATA_PATH = '../input/shopee-product-detection-open/'\n",
    "CLASSES = sorted(os.listdir(DATA_PATH+'train/train/train'))\n",
    "IM_SZ = 224  # 320, 384, 448, 512\n",
    "IMAGE_SIZE = [IM_SZ, IM_SZ]\n",
    "N_SPLITS = 20"
   ]
  },
  {
   "cell_type": "code",
   "execution_count": 2,
   "metadata": {},
   "outputs": [],
   "source": [
    "def train_val_split(labels, n_splits=N_SPLITS):\n",
    "    kf = StratifiedKFold(n_splits=n_splits, shuffle=True, random_state=SEED)\n",
    "    cv_indices = list(kf.split(range(len(labels)), labels))\n",
    "    return cv_indices\n",
    "\n",
    "def format_path(fn, data_split='train'):\n",
    "    if data_split == 'train':\n",
    "        return DATA_PATH + 'train/train/train/' + fn\n",
    "    if data_split == 'test':\n",
    "        return DATA_PATH + 'test/test/test/' + fn\n",
    "\n",
    "def decode_image(filename, label=None):\n",
    "    bits = tf.io.read_file(filename)\n",
    "    image = tf.image.decode_jpeg(bits, channels=3)\n",
    "    image = tf.image.resize(image, IMAGE_SIZE)\n",
    "    if label is None:\n",
    "        return image, filename\n",
    "    else:\n",
    "        return image, label\n",
    "\n",
    "def recompress_image(image, label):\n",
    "    image = tf.cast(image, tf.uint8)\n",
    "    image = tf.image.encode_jpeg(image, optimize_size=True, chroma_downsampling=False)\n",
    "    return image, label\n",
    "    \n",
    "def get_training_dataset(filenames, labels):\n",
    "    return (\n",
    "        tf.data.Dataset\n",
    "        .from_tensor_slices((filenames, labels))\n",
    "        .map(decode_image, num_parallel_calls=AUTO)\n",
    "        .map(recompress_image, num_parallel_calls=AUTO)\n",
    "        .batch(len(filenames) // N_SPLITS)\n",
    "    )\n",
    "\n",
    "def get_test_dataset(filenames):\n",
    "    return (\n",
    "        tf.data.Dataset\n",
    "        .from_tensor_slices(filenames)\n",
    "        .map(decode_image, num_parallel_calls=AUTO)\n",
    "        .map(recompress_image, num_parallel_calls=AUTO)\n",
    "        .batch(len(filenames) // 2)\n",
    "    )"
   ]
  },
  {
   "cell_type": "code",
   "execution_count": 3,
   "metadata": {},
   "outputs": [],
   "source": [
    "train_df = pd.read_csv(DATA_PATH + \"train.csv\")\n",
    "train_df = train_df.sample(train_df.shape[0]).reset_index(drop=True)\n",
    "test_df = pd.read_csv(DATA_PATH + \"test.csv\")\n",
    "\n",
    "cv_indices = train_val_split(train_df.category.values)\n",
    "\n",
    "train_filenames = np.concatenate([train_df.iloc[ind].filename.values for _,ind in cv_indices])\n",
    "train_labels = np.concatenate([train_df.iloc[ind].category.values for _,ind in cv_indices])\n",
    "\n",
    "train_filenames = [format_path(CLASSES[lb]+'/'+fn) for lb, fn in zip(train_labels, train_filenames)]\n",
    "test_filenames = [format_path(fn, 'test') for fn in test_df.filename]\n",
    "\n",
    "train_ds = get_training_dataset(train_filenames, train_labels)\n",
    "test_ds = get_test_dataset(test_filenames)"
   ]
  },
  {
   "cell_type": "code",
   "execution_count": 4,
   "metadata": {},
   "outputs": [],
   "source": [
    "train_dir = \"train\"\n",
    "test_dir = \"test\"\n",
    "\n",
    "os.mkdir(train_dir)\n",
    "os.mkdir(test_dir)"
   ]
  },
  {
   "cell_type": "code",
   "execution_count": 5,
   "metadata": {},
   "outputs": [],
   "source": [
    "def _bytestring_feature(list_of_bytestrings):\n",
    "    return tf.train.Feature(bytes_list=tf.train.BytesList(value=list_of_bytestrings))\n",
    "\n",
    "def _int_feature(list_of_ints): # int64\n",
    "    return tf.train.Feature(int64_list=tf.train.Int64List(value=list_of_ints))\n",
    "\n",
    "def _float_feature(list_of_floats): # float32\n",
    "    return tf.train.Feature(float_list=tf.train.FloatList(value=list_of_floats))\n",
    "\n",
    "def to_tfrecord(img_bytes, image_filename=None, label=None, data_split='train'):\n",
    "    if data_split == 'train':\n",
    "        one_hot_label = np.eye(len(CLASSES))[label]  # [0, 0, 1, 0, 0] for class #2\n",
    "        feature = {\n",
    "            'image': _bytestring_feature([img_bytes]),\n",
    "            'label': _int_feature([label]),\n",
    "            'one_hot_label': _float_feature(one_hot_label.tolist()),\n",
    "        }\n",
    "    if data_split == 'test':\n",
    "        feature = {\n",
    "          'image': _bytestring_feature([img_bytes]),\n",
    "          'filename': _bytestring_feature([image_filename]),\n",
    "        }\n",
    "    return tf.train.Example(features=tf.train.Features(feature=feature))"
   ]
  },
  {
   "cell_type": "code",
   "execution_count": 6,
   "metadata": {},
   "outputs": [
    {
     "name": "stdout",
     "output_type": "stream",
     "text": [
      "Writing training TFRecords...\n",
      "Wrote file train/00-224x224-5269.tfrec containing 5269 records\n",
      "Wrote file train/01-224x224-5269.tfrec containing 5269 records\n",
      "Wrote file train/02-224x224-5269.tfrec containing 5269 records\n",
      "Wrote file train/03-224x224-5269.tfrec containing 5269 records\n",
      "Wrote file train/04-224x224-5269.tfrec containing 5269 records\n",
      "Wrote file train/05-224x224-5269.tfrec containing 5269 records\n",
      "Wrote file train/06-224x224-5269.tfrec containing 5269 records\n",
      "Wrote file train/07-224x224-5269.tfrec containing 5269 records\n",
      "Wrote file train/08-224x224-5269.tfrec containing 5269 records\n",
      "Wrote file train/09-224x224-5269.tfrec containing 5269 records\n",
      "Wrote file train/10-224x224-5269.tfrec containing 5269 records\n",
      "Wrote file train/11-224x224-5269.tfrec containing 5269 records\n",
      "Wrote file train/12-224x224-5269.tfrec containing 5269 records\n",
      "Wrote file train/13-224x224-5269.tfrec containing 5269 records\n",
      "Wrote file train/14-224x224-5269.tfrec containing 5269 records\n",
      "Wrote file train/15-224x224-5269.tfrec containing 5269 records\n",
      "Wrote file train/16-224x224-5269.tfrec containing 5269 records\n",
      "Wrote file train/17-224x224-5269.tfrec containing 5269 records\n",
      "Wrote file train/18-224x224-5269.tfrec containing 5269 records\n",
      "Wrote file train/19-224x224-5269.tfrec containing 5269 records\n",
      "Wrote file train/20-224x224-10.tfrec containing 10 records\n"
     ]
    }
   ],
   "source": [
    "print(\"Writing training TFRecords...\")\n",
    "\n",
    "for shard, (images, labels) in enumerate(train_ds):\n",
    "    shard_size = images.numpy().shape[0]\n",
    "    filename = os.path.join(train_dir, f\"{shard:02d}-{IM_SZ}x{IM_SZ}-{shard_size}.tfrec\")\n",
    "    \n",
    "    with tf.io.TFRecordWriter(filename) as out_file:\n",
    "        for i in range(shard_size):\n",
    "            example = to_tfrecord(images[i].numpy(),\n",
    "                                  label=labels[i].numpy())\n",
    "            out_file.write(example.SerializeToString())\n",
    "        print(\"Wrote file {} containing {} records\".format(filename, shard_size))"
   ]
  },
  {
   "cell_type": "code",
   "execution_count": 7,
   "metadata": {},
   "outputs": [
    {
     "name": "stdout",
     "output_type": "stream",
     "text": [
      "Writing test TFRecords...\n",
      "Wrote file test/00-224x224-6093.tfrec containing 6093 records\n",
      "Wrote file test/01-224x224-6093.tfrec containing 6093 records\n"
     ]
    }
   ],
   "source": [
    "print(\"Writing test TFRecords...\")\n",
    "\n",
    "for shard, (images, img_fns) in enumerate(test_ds):\n",
    "    shard_size = images.numpy().shape[0]\n",
    "    filename = os.path.join(test_dir, f\"{shard:02d}-{IM_SZ}x{IM_SZ}-{shard_size}.tfrec\")\n",
    "    \n",
    "    with tf.io.TFRecordWriter(filename) as out_file:\n",
    "        for i in range(shard_size):\n",
    "            example = to_tfrecord(images[i].numpy(),\n",
    "                                  image_filename=img_fns[i].numpy(),\n",
    "                                  data_split='test')\n",
    "            out_file.write(example.SerializeToString())\n",
    "        print(\"Wrote file {} containing {} records\".format(filename, shard_size))"
   ]
  },
  {
   "cell_type": "code",
   "execution_count": null,
   "metadata": {
    "_cell_guid": "79c7e3d0-c299-4dcb-8224-4455121ee9b0",
    "_uuid": "d629ff2d2480ee46fbb7e2d37f6b5fab8052498a",
    "collapsed": true
   },
   "outputs": [],
   "source": []
  }
 ],
 "metadata": {
  "kernelspec": {
   "display_name": "Python 3",
   "language": "python",
   "name": "python3"
  },
  "language_info": {
   "codemirror_mode": {
    "name": "ipython",
    "version": 3
   },
   "file_extension": ".py",
   "mimetype": "text/x-python",
   "name": "python",
   "nbconvert_exporter": "python",
   "pygments_lexer": "ipython3",
   "version": "3.7.6"
  }
 },
 "nbformat": 4,
 "nbformat_minor": 4
}
